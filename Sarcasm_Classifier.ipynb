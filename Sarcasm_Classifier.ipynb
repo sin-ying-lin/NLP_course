{
 "cells": [
  {
   "cell_type": "code",
   "execution_count": 1,
   "id": "digital-buffer",
   "metadata": {},
   "outputs": [],
   "source": [
    "import json\n",
    "import tensorflow as tf\n",
    "\n",
    "from tensorflow.keras.preprocessing.text import Tokenizer\n",
    "from tensorflow.keras.preprocessing.sequence import pad_sequences"
   ]
  },
  {
   "cell_type": "code",
   "execution_count": 50,
   "id": "alien-trout",
   "metadata": {},
   "outputs": [],
   "source": [
    "vocab_size = 1000\n",
    "embedding_dim = 32\n",
    "max_length = 16\n",
    "trunc_type = 'post'\n",
    "padding_type = 'post'\n",
    "oov_tok = '<OOV>'\n",
    "training_size = 20000"
   ]
  },
  {
   "cell_type": "code",
   "execution_count": 51,
   "id": "pressing-shirt",
   "metadata": {},
   "outputs": [],
   "source": [
    "with open('sarcasm.json', 'r') as f:\n",
    "    datastore = json.load(f)\n",
    "\n",
    "sentences = []\n",
    "labels = []\n",
    "\n",
    "for item in datastore:\n",
    "    sentences.append(item['headline'])\n",
    "    labels.append(item['is_sarcastic'])"
   ]
  },
  {
   "cell_type": "code",
   "execution_count": 52,
   "id": "parliamentary-arabic",
   "metadata": {},
   "outputs": [],
   "source": [
    "training_sentences = sentences[0:training_size]\n",
    "testing_sentences = sentences[training_size:]\n",
    "training_labels = labels[0:training_size]\n",
    "testing_labels = labels[training_size:]"
   ]
  },
  {
   "cell_type": "code",
   "execution_count": 53,
   "id": "offshore-diving",
   "metadata": {},
   "outputs": [],
   "source": [
    "tokenizer = Tokenizer(num_words=vocab_size, oov_token=oov_tok)\n",
    "tokenizer.fit_on_texts(training_sentences)\n",
    "\n",
    "word_index = tokenizer.word_index\n",
    "\n",
    "training_sequences = tokenizer.texts_to_sequences(training_sentences)\n",
    "training_padded = pad_sequences(training_sequences, maxlen=max_length, padding=padding_type, truncating=trunc_type)\n",
    "\n",
    "testing_sequences = tokenizer.texts_to_sequences(testing_sentences)\n",
    "testing_padded = pad_sequences(testing_sequences, maxlen=max_length, padding=padding_type, truncating=trunc_type)"
   ]
  },
  {
   "cell_type": "code",
   "execution_count": 54,
   "id": "rotary-corner",
   "metadata": {},
   "outputs": [],
   "source": [
    "model = tf.keras.Sequential([\n",
    "    tf.keras.layers.Embedding(vocab_size, embedding_dim, input_length=max_length),\n",
    "    tf.keras.layers.GlobalAveragePooling1D(),\n",
    "    tf.keras.layers.Dense(24, activation='relu'),\n",
    "    tf.keras.layers.Dense(1, activation='sigmoid')\n",
    "])\n",
    "\n",
    "model.compile(loss='binary_crossentropy', optimizer='adam', metrics=['accuracy'])"
   ]
  },
  {
   "cell_type": "code",
   "execution_count": 55,
   "id": "solid-electronics",
   "metadata": {},
   "outputs": [
    {
     "name": "stdout",
     "output_type": "stream",
     "text": [
      "Model: \"sequential_1\"\n",
      "_________________________________________________________________\n",
      "Layer (type)                 Output Shape              Param #   \n",
      "=================================================================\n",
      "embedding_1 (Embedding)      (None, 16, 32)            32000     \n",
      "_________________________________________________________________\n",
      "global_average_pooling1d_1 ( (None, 32)                0         \n",
      "_________________________________________________________________\n",
      "dense_2 (Dense)              (None, 24)                792       \n",
      "_________________________________________________________________\n",
      "dense_3 (Dense)              (None, 1)                 25        \n",
      "=================================================================\n",
      "Total params: 32,817\n",
      "Trainable params: 32,817\n",
      "Non-trainable params: 0\n",
      "_________________________________________________________________\n"
     ]
    }
   ],
   "source": [
    "model.summary()"
   ]
  },
  {
   "cell_type": "code",
   "execution_count": 56,
   "id": "freelance-purpose",
   "metadata": {},
   "outputs": [],
   "source": [
    "import numpy as np\n",
    "training_labels_final = np.array(training_labels)\n",
    "testing_labels_final = np.array(testing_labels)"
   ]
  },
  {
   "cell_type": "code",
   "execution_count": 57,
   "id": "noticed-miller",
   "metadata": {},
   "outputs": [
    {
     "name": "stdout",
     "output_type": "stream",
     "text": [
      "Epoch 1/30\n",
      "625/625 - 2s - loss: 0.5058 - accuracy: 0.7469 - val_loss: 0.4033 - val_accuracy: 0.8077\n",
      "Epoch 2/30\n",
      "625/625 - 1s - loss: 0.3743 - accuracy: 0.8284 - val_loss: 0.3997 - val_accuracy: 0.8101\n",
      "Epoch 3/30\n",
      "625/625 - 1s - loss: 0.3624 - accuracy: 0.8366 - val_loss: 0.3999 - val_accuracy: 0.8116\n",
      "Epoch 4/30\n",
      "625/625 - 1s - loss: 0.3579 - accuracy: 0.8382 - val_loss: 0.4048 - val_accuracy: 0.8104\n",
      "Epoch 5/30\n",
      "625/625 - 1s - loss: 0.3544 - accuracy: 0.8392 - val_loss: 0.4038 - val_accuracy: 0.8114\n",
      "Epoch 6/30\n",
      "625/625 - 1s - loss: 0.3517 - accuracy: 0.8393 - val_loss: 0.4021 - val_accuracy: 0.8114\n",
      "Epoch 7/30\n",
      "625/625 - 1s - loss: 0.3482 - accuracy: 0.8413 - val_loss: 0.4078 - val_accuracy: 0.8137\n",
      "Epoch 8/30\n",
      "625/625 - 1s - loss: 0.3450 - accuracy: 0.8414 - val_loss: 0.3942 - val_accuracy: 0.8177\n",
      "Epoch 9/30\n",
      "625/625 - 2s - loss: 0.3392 - accuracy: 0.8450 - val_loss: 0.3935 - val_accuracy: 0.8177\n",
      "Epoch 10/30\n",
      "625/625 - 2s - loss: 0.3350 - accuracy: 0.8508 - val_loss: 0.3952 - val_accuracy: 0.8204\n",
      "Epoch 11/30\n",
      "625/625 - 2s - loss: 0.3316 - accuracy: 0.8522 - val_loss: 0.3940 - val_accuracy: 0.8219\n",
      "Epoch 12/30\n",
      "625/625 - 2s - loss: 0.3277 - accuracy: 0.8536 - val_loss: 0.3935 - val_accuracy: 0.8231\n",
      "Epoch 13/30\n",
      "625/625 - 2s - loss: 0.3249 - accuracy: 0.8559 - val_loss: 0.3948 - val_accuracy: 0.8211\n",
      "Epoch 14/30\n",
      "625/625 - 2s - loss: 0.3216 - accuracy: 0.8567 - val_loss: 0.3962 - val_accuracy: 0.8211\n",
      "Epoch 15/30\n",
      "625/625 - 3s - loss: 0.3196 - accuracy: 0.8579 - val_loss: 0.3982 - val_accuracy: 0.8180\n",
      "Epoch 16/30\n",
      "625/625 - 2s - loss: 0.3172 - accuracy: 0.8593 - val_loss: 0.3990 - val_accuracy: 0.8220\n",
      "Epoch 17/30\n",
      "625/625 - 2s - loss: 0.3146 - accuracy: 0.8607 - val_loss: 0.4040 - val_accuracy: 0.8199\n",
      "Epoch 18/30\n",
      "625/625 - 3s - loss: 0.3130 - accuracy: 0.8609 - val_loss: 0.4040 - val_accuracy: 0.8189\n",
      "Epoch 19/30\n",
      "625/625 - 3s - loss: 0.3108 - accuracy: 0.8634 - val_loss: 0.4027 - val_accuracy: 0.8196\n",
      "Epoch 20/30\n",
      "625/625 - 3s - loss: 0.3096 - accuracy: 0.8625 - val_loss: 0.4091 - val_accuracy: 0.8189\n",
      "Epoch 21/30\n",
      "625/625 - 4s - loss: 0.3079 - accuracy: 0.8628 - val_loss: 0.4094 - val_accuracy: 0.8182\n",
      "Epoch 22/30\n",
      "625/625 - 3s - loss: 0.3064 - accuracy: 0.8663 - val_loss: 0.4141 - val_accuracy: 0.8173\n",
      "Epoch 23/30\n",
      "625/625 - 2s - loss: 0.3044 - accuracy: 0.8663 - val_loss: 0.4112 - val_accuracy: 0.8185\n",
      "Epoch 24/30\n",
      "625/625 - 3s - loss: 0.3028 - accuracy: 0.8659 - val_loss: 0.4113 - val_accuracy: 0.8170\n",
      "Epoch 25/30\n",
      "625/625 - 3s - loss: 0.3014 - accuracy: 0.8676 - val_loss: 0.4186 - val_accuracy: 0.8156\n",
      "Epoch 26/30\n",
      "625/625 - 3s - loss: 0.2987 - accuracy: 0.8678 - val_loss: 0.4187 - val_accuracy: 0.8159\n",
      "Epoch 27/30\n",
      "625/625 - 4s - loss: 0.2964 - accuracy: 0.8693 - val_loss: 0.4180 - val_accuracy: 0.8159\n",
      "Epoch 28/30\n",
      "625/625 - 2s - loss: 0.2956 - accuracy: 0.8684 - val_loss: 0.4183 - val_accuracy: 0.8171\n",
      "Epoch 29/30\n",
      "625/625 - 4s - loss: 0.2930 - accuracy: 0.8708 - val_loss: 0.4222 - val_accuracy: 0.8162\n",
      "Epoch 30/30\n",
      "625/625 - 2s - loss: 0.2896 - accuracy: 0.8730 - val_loss: 0.4254 - val_accuracy: 0.8141\n"
     ]
    }
   ],
   "source": [
    "num_epochs = 30\n",
    "history = model.fit(training_padded, training_labels_final, epochs=num_epochs,\n",
    "                   validation_data=(testing_padded, testing_labels_final), verbose=2)"
   ]
  },
  {
   "cell_type": "code",
   "execution_count": 58,
   "id": "amber-minnesota",
   "metadata": {},
   "outputs": [
    {
     "data": {
      "image/png": "[encoded data removed]",
      "text/plain": [
       "<Figure size 432x288 with 1 Axes>"
      ]
     },
     "metadata": {
      "needs_background": "light"
     },
     "output_type": "display_data"
    }
   ],
   "source": [
    "import matplotlib.pyplot as plt\n",
    "\n",
    "def plot_graphs(history, string):\n",
    "    plt.plot(history.history[string])\n",
    "    plt.plot(history.history['val_'+string])\n",
    "    plt.xlabel('Epochs')\n",
    "    plt.ylabel(string)\n",
    "    plt.legend([string, 'val_'+string])\n",
    "    plt.show\n",
    "    \n",
    "plot_graphs(history, 'accuracy')\n"
   ]
  },
  {
   "cell_type": "code",
   "execution_count": 59,
   "id": "dress-excess",
   "metadata": {},
   "outputs": [
    {
     "data": {
      "image/png": "[encoded data removed]",
      "text/plain": [
       "<Figure size 432x288 with 1 Axes>"
      ]
     },
     "metadata": {
      "needs_background": "light"
     },
     "output_type": "display_data"
    }
   ],
   "source": [
    "plot_graphs(history, 'loss')"
   ]
  },
  {
   "cell_type": "code",
   "execution_count": 61,
   "id": "korean-tackle",
   "metadata": {},
   "outputs": [
    {
     "name": "stdout",
     "output_type": "stream",
     "text": [
      "(1000, 32)\n"
     ]
    }
   ],
   "source": [
    "#Get the index-word dictionary \n",
    "reverse_word_index = tokenizer.index_word\n",
    "\n",
    "#Get the embedding layer from the model\n",
    "embedding_layer = model.layers[0]\n",
    "\n",
    "#Get the wegihts of the embedding layer\n",
    "embedding_weights = embedding_layer.get_weights()[0]\n",
    "\n",
    "#Print the shame.\n",
    "print(embedding_weights.shape)"
   ]
  },
  {
   "cell_type": "code",
   "execution_count": 65,
   "id": "underlying-consultancy",
   "metadata": {},
   "outputs": [],
   "source": [
    "import io \n",
    "\n",
    "out_v = io.open('sarcasm.vecs.tsv', 'w', encoding='utf-8')\n",
    "out_m = io.open('sarcasm.meta.tsv', 'w', encoding='utf_8')\n",
    "\n",
    "#Initialize the loop\n",
    "for word_num in range(1, vocab_size):\n",
    "    word_name = reverse_word_index[word_num]\n",
    "    word_embedding = embedding_weights[word_num]\n",
    "    \n",
    "    out_m.write(word_name + '\\n')\n",
    "    out_v.write('\\t'.join([str(x) for x in word_embedding]) + '\\n')\n",
    "    \n",
    "out_m.close()\n",
    "out_v.close()"
   ]
  }
 ],
 "metadata": {
  "kernelspec": {
   "display_name": "Python 3",
   "language": "python",
   "name": "python3"
  },
  "language_info": {
   "codemirror_mode": {
    "name": "ipython",
    "version": 3
   },
   "file_extension": ".py",
   "mimetype": "text/x-python",
   "name": "python",
   "nbconvert_exporter": "python",
   "pygments_lexer": "ipython3",
   "version": "3.8.5"
  }
 },
 "nbformat": 4,
 "nbformat_minor": 5
}
